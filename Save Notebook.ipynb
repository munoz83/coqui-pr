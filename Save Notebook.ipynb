{
 "cells": [
  {
   "cell_type": "markdown",
   "id": "8f6ed553",
   "metadata": {},
   "source": [
    "# Data Science Tools and Ecosystem\n"
   ]
  },
  {
   "cell_type": "markdown",
   "id": "ae69ccf1",
   "metadata": {},
   "source": [
    "##  In this notebook, Data Science Tools and Ecosystem are summarized."
   ]
  },
  {
   "cell_type": "markdown",
   "id": "c60f67f4",
   "metadata": {},
   "source": [
    "## **Objectives**:"
   ]
  },
  {
   "cell_type": "markdown",
   "id": "9889f806",
   "metadata": {},
   "source": [
    "        - Review the basics topics of Data Science  \n",
    "        - Practice how to create and use Jupyter Notebook\n",
    "        - Create markdown cell with title and use code to emphatized text\n",
    "        - Apply some mathematics expressions in Python  "
   ]
  },
  {
   "cell_type": "markdown",
   "id": "f0056b6a",
   "metadata": {},
   "source": [
    "### Some of the popular languages that Data Scientists use are:"
   ]
  },
  {
   "cell_type": "markdown",
   "id": "25bcde55",
   "metadata": {},
   "source": [
    "        1. Python\n",
    "        2. SQL\n",
    "        3. Julia\n",
    "        4. R\n",
    "        5. C"
   ]
  },
  {
   "cell_type": "markdown",
   "id": "afd53a7d",
   "metadata": {},
   "source": [
    "### Some of the commonly used libraries used by Data Scientists include:"
   ]
  },
  {
   "cell_type": "markdown",
   "id": "5e36258d",
   "metadata": {},
   "source": [
    "        1. Pandas\n",
    "        2. NumPy\n",
    "        3. sciPy\n",
    "        4. SciKit-Learn\n",
    "        5. TensorFlow"
   ]
  },
  {
   "cell_type": "markdown",
   "id": "f086fd6c",
   "metadata": {},
   "source": [
    "|Data Science Tools|\n",
    "|------------------|\n",
    "|RStudio|\n",
    "|Apache Hadoop|\n",
    "|TensorFlow|\n",
    "\n"
   ]
  },
  {
   "cell_type": "markdown",
   "id": "aee34eed",
   "metadata": {},
   "source": [
    "### Below are a few examples of evaluating arithmetic expressions in Python"
   ]
  },
  {
   "cell_type": "code",
   "execution_count": 3,
   "id": "084b4fd6",
   "metadata": {},
   "outputs": [
    {
     "name": "stdout",
     "output_type": "stream",
     "text": [
      "This a simple arithmetic expression to mutiply then add integers\n"
     ]
    }
   ],
   "source": [
    "print (\"This a simple arithmetic expression to mutiply then add integers\")"
   ]
  },
  {
   "cell_type": "code",
   "execution_count": 4,
   "id": "aee0d4db",
   "metadata": {},
   "outputs": [
    {
     "data": {
      "text/plain": [
       "17"
      ]
     },
     "execution_count": 4,
     "metadata": {},
     "output_type": "execute_result"
    }
   ],
   "source": [
    "(3*4)+5"
   ]
  },
  {
   "cell_type": "code",
   "execution_count": 5,
   "id": "3911e543",
   "metadata": {},
   "outputs": [
    {
     "name": "stdout",
     "output_type": "stream",
     "text": [
      "This will convert 200 minutes to hours by diving by 60\n"
     ]
    }
   ],
   "source": [
    "print (\"This will convert 200 minutes to hours by diving by 60\")"
   ]
  },
  {
   "cell_type": "code",
   "execution_count": 6,
   "id": "4a627cd1",
   "metadata": {},
   "outputs": [
    {
     "data": {
      "text/plain": [
       "3.3333333333333335"
      ]
     },
     "execution_count": 6,
     "metadata": {},
     "output_type": "execute_result"
    }
   ],
   "source": [
    "200/60"
   ]
  },
  {
   "cell_type": "markdown",
   "id": "f0a0efc6",
   "metadata": {},
   "source": [
    "## Author\n",
    "[Marlene Muñoz]"
   ]
  },
  {
   "cell_type": "code",
   "execution_count": null,
   "id": "147284c7",
   "metadata": {},
   "outputs": [],
   "source": []
  }
 ],
 "metadata": {
  "kernelspec": {
   "display_name": "Python 3 (ipykernel)",
   "language": "python",
   "name": "python3"
  },
  "language_info": {
   "codemirror_mode": {
    "name": "ipython",
    "version": 3
   },
   "file_extension": ".py",
   "mimetype": "text/x-python",
   "name": "python",
   "nbconvert_exporter": "python",
   "pygments_lexer": "ipython3",
   "version": "3.10.9"
  }
 },
 "nbformat": 4,
 "nbformat_minor": 5
}
